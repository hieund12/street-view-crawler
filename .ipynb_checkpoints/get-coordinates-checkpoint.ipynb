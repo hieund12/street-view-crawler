{
 "cells": [
  {
   "cell_type": "code",
   "execution_count": null,
   "metadata": {
    "scrolled": false
   },
   "outputs": [],
   "source": [
    "from random import uniform\n",
    "\n",
    "output = open(\"places/test1.csv\", \"w\")\n",
    "output.write('latitude'+','+'longitude'+\"\\n\")\n",
    "\n",
    "def newpoint():\n",
    "    # insert your own bounding box, remember to follow the \n",
    "    # (latitude,latitude),(longitude,longitude) scheme\n",
    "    return uniform(44.48,44.50), uniform(11.3043, 11.3718)\n",
    "\n",
    "# set the number of coordinates in xrange and saves a csv file\n",
    "points = (newpoint() for x in xrange(500))\n",
    "for point in points:\n",
    "    print point[0],point[1]\n",
    "    output.write(str(point[0])+\",\"+str(point[1])+\"\\n\")\n",
    "    \n",
    "    \n",
    "    \n",
    "    "
   ]
  },
  {
   "cell_type": "code",
   "execution_count": 17,
   "metadata": {},
   "outputs": [
    {
     "name": "stdout",
     "output_type": "stream",
     "text": [
      "test\n"
     ]
    }
   ],
   "source": [
    "import os\n",
    "import numpy\n",
    "from imutils import paths\n",
    "from orangecontrib.imageanalytics.image_embedder import ImageEmbedder\n",
    "import time\n",
    "import pickle\n",
    "\n",
    "from sklearn.calibration import CalibratedClassifierCV, _CalibratedClassifier\n",
    "import time\n",
    "from natsort import natsorted, ns\n",
    "\n",
    "\n",
    "print (\"test\")\n"
   ]
  },
  {
   "cell_type": "code",
   "execution_count": null,
   "metadata": {},
   "outputs": [],
   "source": []
  },
  {
   "cell_type": "code",
   "execution_count": null,
   "metadata": {
    "collapsed": true
   },
   "outputs": [],
   "source": []
  }
 ],
 "metadata": {
  "anaconda-cloud": {},
  "kernelspec": {
   "display_name": "python3env",
   "language": "python",
   "name": "python3env"
  },
  "language_info": {
   "codemirror_mode": {
    "name": "ipython",
    "version": 3
   },
   "file_extension": ".py",
   "mimetype": "text/x-python",
   "name": "python",
   "nbconvert_exporter": "python",
   "pygments_lexer": "ipython3",
   "version": "3.6.4"
  }
 },
 "nbformat": 4,
 "nbformat_minor": 1
}
